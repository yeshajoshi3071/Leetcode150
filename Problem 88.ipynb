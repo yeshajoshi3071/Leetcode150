{
 "cells": [
  {
   "cell_type": "code",
   "execution_count": 7,
   "metadata": {},
   "outputs": [
    {
     "name": "stdout",
     "output_type": "stream",
     "text": [
      "[1, 2, 2, 3, 5, 6]\n"
     ]
    }
   ],
   "source": [
    "def merge(nums1, m, nums2, n) -> None:\n",
    "    #first we will merge num1 and num2\n",
    "    counter = 0;\n",
    "    for i in range(m, len(nums1)):\n",
    "        nums1[i] = nums2[counter];\n",
    "        counter = counter + 1;\n",
    "\n",
    "    #now we will sort the list\n",
    "    nums1.sort();\n",
    "    return nums1\n",
    "\n",
    "nums1 = [1,2,3,0,0,0];\n",
    "m = 3;\n",
    "nums2 = [2,5,6];\n",
    "n = 3;    \n",
    "print(merge(nums1, m, nums2, n))"
   ]
  },
  {
   "cell_type": "code",
   "execution_count": 21,
   "metadata": {},
   "outputs": [
    {
     "name": "stdout",
     "output_type": "stream",
     "text": [
      "[1, 2, 3, 3, 4, 5, 6]\n"
     ]
    }
   ],
   "source": [
    "def merge(nums1, m, nums2, n) -> None:\n",
    "   #last index of nums 1\n",
    "    last = m + n - 1\n",
    "    #merging nums1 and nums 2 in reverse order\n",
    "    while m > 0 and n > 0 :\n",
    "        if nums1[m - 1] > nums2[n-1]:\n",
    "            nums1[last] = nums1[m-1]\n",
    "            m -= 1\n",
    "        else:\n",
    "            nums1[last] = nums2[n-1]\n",
    "            n -= 1\n",
    "        last -= 1\n",
    "\n",
    "        #fill nums1 with leftovers of nums2\n",
    "    # while n > 0:\n",
    "    #     nums1[last] = nums2[n - 1]\n",
    "    #     n, last = n - 1, last - 1\n",
    "    return nums1\n",
    "\n",
    "nums1 = [3,3,4,0,0,0,0];\n",
    "m = 3;\n",
    "nums2 = [1,2,5,6];\n",
    "n = 4;    \n",
    "print(merge(nums1, m, nums2, n))"
   ]
  }
 ],
 "metadata": {
  "kernelspec": {
   "display_name": "base",
   "language": "python",
   "name": "python3"
  },
  "language_info": {
   "codemirror_mode": {
    "name": "ipython",
    "version": 3
   },
   "file_extension": ".py",
   "mimetype": "text/x-python",
   "name": "python",
   "nbconvert_exporter": "python",
   "pygments_lexer": "ipython3",
   "version": "3.11.5"
  }
 },
 "nbformat": 4,
 "nbformat_minor": 2
}
